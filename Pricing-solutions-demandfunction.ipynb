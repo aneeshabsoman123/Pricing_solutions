{
 "cells": [
  {
   "cell_type": "code",
   "execution_count": 2,
   "id": "438e84e4",
   "metadata": {},
   "outputs": [],
   "source": [
    "import numpy as np\n",
    "import pandas as pd"
   ]
  },
  {
   "cell_type": "markdown",
   "id": "eb82d423",
   "metadata": {},
   "source": [
    "# Demand Function"
   ]
  },
  {
   "cell_type": "code",
   "execution_count": 3,
   "id": "7eb41c87",
   "metadata": {},
   "outputs": [
    {
     "data": {
      "text/html": [
       "<div>\n",
       "<style scoped>\n",
       "    .dataframe tbody tr th:only-of-type {\n",
       "        vertical-align: middle;\n",
       "    }\n",
       "\n",
       "    .dataframe tbody tr th {\n",
       "        vertical-align: top;\n",
       "    }\n",
       "\n",
       "    .dataframe thead th {\n",
       "        text-align: right;\n",
       "    }\n",
       "</style>\n",
       "<table border=\"1\" class=\"dataframe\">\n",
       "  <thead>\n",
       "    <tr style=\"text-align: right;\">\n",
       "      <th></th>\n",
       "      <th>Store</th>\n",
       "      <th>Price</th>\n",
       "      <th>Sales</th>\n",
       "    </tr>\n",
       "  </thead>\n",
       "  <tbody>\n",
       "    <tr>\n",
       "      <th>0</th>\n",
       "      <td>1</td>\n",
       "      <td>22.0</td>\n",
       "      <td>490</td>\n",
       "    </tr>\n",
       "    <tr>\n",
       "      <th>1</th>\n",
       "      <td>2</td>\n",
       "      <td>22.6</td>\n",
       "      <td>506</td>\n",
       "    </tr>\n",
       "    <tr>\n",
       "      <th>2</th>\n",
       "      <td>3</td>\n",
       "      <td>21.4</td>\n",
       "      <td>551</td>\n",
       "    </tr>\n",
       "  </tbody>\n",
       "</table>\n",
       "</div>"
      ],
      "text/plain": [
       "   Store  Price  Sales\n",
       "0      1   22.0    490\n",
       "1      2   22.6    506\n",
       "2      3   21.4    551"
      ]
     },
     "execution_count": 3,
     "metadata": {},
     "output_type": "execute_result"
    }
   ],
   "source": [
    "df = pd.read_excel('Datasets/sales_price.xlsx')\n",
    "df.head(3)"
   ]
  },
  {
   "cell_type": "code",
   "execution_count": 4,
   "id": "60a5ec8c",
   "metadata": {},
   "outputs": [
    {
     "data": {
      "text/plain": [
       "Store      int64\n",
       "Price    float64\n",
       "Sales      int64\n",
       "dtype: object"
      ]
     },
     "execution_count": 4,
     "metadata": {},
     "output_type": "execute_result"
    }
   ],
   "source": [
    "df.dtypes"
   ]
  },
  {
   "cell_type": "code",
   "execution_count": 5,
   "id": "367bcf2b",
   "metadata": {},
   "outputs": [
    {
     "data": {
      "text/plain": [
       "<seaborn.axisgrid.FacetGrid at 0x1ec0d15c9d0>"
      ]
     },
     "execution_count": 5,
     "metadata": {},
     "output_type": "execute_result"
    },
    {
     "data": {
      "image/png": "[encoded data removed]",
      "text/plain": [
       "<Figure size 360x360 with 1 Axes>"
      ]
     },
     "metadata": {},
     "output_type": "display_data"
    }
   ],
   "source": [
    "import seaborn as sns\n",
    "sns.set_style('whitegrid')\n",
    "sns.lmplot(x ='Price', y ='Sales', data = df)"
   ]
  },
  {
   "cell_type": "markdown",
   "id": "5a3c3d7e",
   "metadata": {},
   "source": [
    "Demand function can be found out here using regression"
   ]
  },
  {
   "cell_type": "code",
   "execution_count": 5,
   "id": "52f375df",
   "metadata": {},
   "outputs": [
    {
     "name": "stdout",
     "output_type": "stream",
     "text": [
      "intercept: 1204.857001484414\n",
      "slope: -32.016328550222674\n"
     ]
    }
   ],
   "source": [
    "import scipy.stats as stats\n",
    "import numpy as np\n",
    "\n",
    "x = df['Price']\n",
    "y = df['Sales']\n",
    "\n",
    "model = stats.linregress( x, y )\n",
    "intercept_ = model.intercept\n",
    "slope_ = model.slope\n",
    "\n",
    "print(f\"intercept: {intercept_}\")\n",
    "print(f\"slope: {slope_}\")"
   ]
  },
  {
   "cell_type": "markdown",
   "id": "58db4132",
   "metadata": {},
   "source": [
    "Therefore the Demand function can be created from this\n",
    "\n",
    "y=mx+c"
   ]
  },
  {
   "cell_type": "markdown",
   "id": "5abcc0ba",
   "metadata": {},
   "source": [
    "Quantity=slope*Sales+intercept"
   ]
  },
  {
   "cell_type": "code",
   "execution_count": null,
   "id": "c35338a6",
   "metadata": {},
   "outputs": [],
   "source": []
  }
 ],
 "metadata": {
  "kernelspec": {
   "display_name": "Python 3 (ipykernel)",
   "language": "python",
   "name": "python3"
  },
  "language_info": {
   "codemirror_mode": {
    "name": "ipython",
    "version": 3
   },
   "file_extension": ".py",
   "mimetype": "text/x-python",
   "name": "python",
   "nbconvert_exporter": "python",
   "pygments_lexer": "ipython3",
   "version": "3.9.7"
  }
 },
 "nbformat": 4,
 "nbformat_minor": 5
}
